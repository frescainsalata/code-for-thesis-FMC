{
 "cells": [
  {
   "cell_type": "code",
   "execution_count": 19,
   "metadata": {},
   "outputs": [],
   "source": [
    "#import necessary libraries\n",
    "import spafe\n",
    "import librosa as lbrs\n",
    "import librosa.display\n",
    "from sklearn.metrics import accuracy_score\n",
    "from sklearn.metrics import confusion_matrix\n",
    "import pandas as pd\n",
    "import numpy as np\n",
    "import matplotlib.pyplot as plot\n",
    "%matplotlib inline\n",
    "import os\n",
    "import pathlib\n",
    "import csv \n",
    "from sklearn.model_selection import train_test_split\n",
    "from sklearn.preprocessing import LabelEncoder, StandardScaler\n",
    "import keras \n",
    "from keras import layers\n",
    "from keras import layers\n",
    "import keras\n",
    "from keras.models import Sequential\n",
    "from sklearn.ensemble import ExtraTreesClassifier\n",
    "from sklearn.model_selection import StratifiedKFold\n",
    "from scipy.io import wavfile\n",
    "import warnings\n",
    "warnings.filterwarnings('ignore')"
   ]
  },
  {
   "cell_type": "code",
   "execution_count": 2,
   "metadata": {},
   "outputs": [],
   "source": [
    "#create headers foe the csv\n",
    "header = 'filename rmse spectral_centroid spectral_bandwidth rolloff zero_crossing_rate peak_frequency F_0'\n",
    "for i in range(1, 21): #using 20 mel coefficients\n",
    "    header += f' mfcc{i}'\n",
    "header += ' label'\n",
    "header = header.split()"
   ]
  },
  {
   "cell_type": "code",
   "execution_count": 52,
   "metadata": {},
   "outputs": [],
   "source": [
    "#compiling the csv with spectral features and MFCCs\n",
    "file = open('dataset_time+MFCC.csv', 'w', newline='')\n",
    "with file:\n",
    "    writer = csv.writer(file)\n",
    "    writer.writerow(header)\n",
    "grunts = 'isolation positive'.split()\n",
    "for g in grunts:\n",
    "    for filename in os.listdir(f'./grunts_final/{g}'):\n",
    "        sound_name = f'./grunts_final/{g}/{filename}'\n",
    "        y, sr = lbrs.load(sound_name, mono=True, duration=30)\n",
    "        rms = lbrs.feature.rms(y=y)\n",
    "        chroma_stft = lbrs.feature.chroma_stft(y=y, sr=sr)\n",
    "        spec_cent = lbrs.feature.spectral_centroid(y=y, sr=sr)\n",
    "        spec_bw = lbrs.feature.spectral_bandwidth(y=y, sr=sr)\n",
    "        rolloff = lbrs.feature.spectral_rolloff(y=y, sr=sr)\n",
    "        zcr = lbrs.feature.zero_crossing_rate(y)\n",
    "        peak_frequency = np.max(np.abs(lbrs.stft(y)))\n",
    "        f0, voiced_flag, voiced_probs = lbrs.pyin(y, fmin=lbrs.note_to_hz('C2'), fmax=lbrs.note_to_hz('C7'))\n",
    "        F0 = lbrs.times_like(f0)\n",
    "        mfcc = lbrs.feature.mfcc(y=y, sr=sr)\n",
    "        to_append = f'{filename} {np.mean(rms)} {np.mean(spec_cent)} {np.mean(spec_bw)} {np.mean(rolloff)} {np.mean(zcr)} {peak_frequency} {np.mean(F0)}'    \n",
    "        for e in mfcc:\n",
    "            to_append += f' {np.mean(e)}'\n",
    "        to_append += f' {g}'\n",
    "        file = open('dataset_time+MFCC.csv', 'a', newline='')\n",
    "        with file:\n",
    "            writer = csv.writer(file)\n",
    "            writer.writerow(to_append.split())"
   ]
  },
  {
   "cell_type": "code",
   "execution_count": 3,
   "metadata": {},
   "outputs": [
    {
     "name": "stdout",
     "output_type": "stream",
     "text": [
      "(567, 27)\n"
     ]
    }
   ],
   "source": [
    "#preparing the dataset \n",
    "data = pd.read_csv('dataset_time+MFCC.csv')\n",
    "data.head()# Dropping unneccesary columns\n",
    "data = data.drop(['filename'],axis=1)\n",
    "sound_list = data.iloc[:, -1] \n",
    "encoder = LabelEncoder()\n",
    "y = encoder.fit_transform(sound_list) #encoding labels\n",
    "scaler = StandardScaler()\n",
    "X = scaler.fit_transform(np.array(data.iloc[:, :-1], dtype = float)) #Scaling the Feature columns\n",
    "#Dividing data into training and Testing set\n",
    "X_train, X_test, y_train, y_test = train_test_split(X, y, test_size=0.3, random_state=123, stratify=y)\n",
    "print(X.shape)"
   ]
  },
  {
   "cell_type": "code",
   "execution_count": null,
   "metadata": {},
   "outputs": [],
   "source": [
    "#feature importance\n",
    "X_f = data.iloc[:,1:27]  #independent columns, not scaled\n",
    "model = ExtraTreesClassifier() #randomized DT, more for insights on data\n",
    "model.fit(X_f,sound_list)\n",
    "print(model.feature_importances_) #use inbuilt class feature_importances of tree based classifiers\n",
    "#plot graph of feature importances for better visualization\n",
    "feat_importances = pd.Series(model.feature_importances_, index=X_f.columns)\n",
    "feat_importances.nlargest(10).plot(kind='barh')\n",
    "plot.show()"
   ]
  },
  {
   "cell_type": "code",
   "execution_count": null,
   "metadata": {},
   "outputs": [],
   "source": [
    "# building the nerural network + a 10 cross validation\n",
    "kfold = StratifiedKFold(n_splits=10, shuffle=True, random_state=123)\n",
    "cvscores = []\n",
    "for train, test in kfold.split(X, y):\n",
    "  # create neural network\n",
    "        model = Sequential()\n",
    "        model.add(layers.Dense(256, activation='relu', input_shape=(X_train.shape[1],)))\n",
    "        model.add(layers.Dense(128, activation='relu'))\n",
    "        model.add(layers.Dense(64, activation='relu'))\n",
    "        model.add(layers.Dense(1, activation='sigmoid')) \n",
    "        model.compile(optimizer='adam', loss='binary_crossentropy', metrics=['accuracy'])\n",
    "\t# Fit the model\n",
    "        model.fit(X[train], y[train], epochs=100, batch_size=10, verbose=0)\n",
    "\t# evaluate the model with accuracy on 10 cv\n",
    "        y_pred=model.predict(X[test])\n",
    "    #confusion matrix for each cv\n",
    "        preds=(y_pred >= 0.5).astype(np.float)\n",
    "        cf_matrix=confusion_matrix(y[test], preds)\n",
    "        print(cf_matrix)\n",
    "        \n",
    "        scores = model.evaluate(X[test], y[test], verbose=0)\n",
    "        \n",
    "    # print accuracy for each cv\n",
    "        print(\"%s: %.2f%%\" % (model.metrics_names[1], scores[1]*100))\n",
    "        cvscores.append(scores[1] * 100)\n",
    "#print overall accuracy and standard deviation\n",
    "print(\"%.2f%% (+/- %.2f%%)\" % (np.mean(cvscores), np.std(cvscores)))"
   ]
  },
  {
   "cell_type": "code",
   "execution_count": null,
   "metadata": {},
   "outputs": [],
   "source": [
    "#Plotting oscillogram and spectrogram of positive grunt\n",
    "# Read the wav file (mono)\n",
    "samplingFrequency, signalData = wavfile.read('./grunts_final/Positive/positive-X-13.wav')\n",
    "# Plot the signal read from wav file\n",
    "plot.subplot(211)\n",
    "plot.title('Spectrogram of positive grunt')\n",
    "plot.plot(signalData)\n",
    "plot.xlabel('Sample')\n",
    "plot.ylabel('Amplitude')\n",
    "plot.subplot(212)\n",
    "plot.specgram(signalData,Fs=samplingFrequency)\n",
    "plot.xlabel('Time')\n",
    "plot.ylabel('Frequency')\n",
    "plot.show()"
   ]
  },
  {
   "cell_type": "code",
   "execution_count": null,
   "metadata": {},
   "outputs": [],
   "source": [
    "#plotting f0 of a positive grunt\n",
    "y, sr = librosa.load('./grunts_final/Positive/positive-15-13.wav')\n",
    "f0, voiced_flag, voiced_probs = librosa.pyin(y, fmin=librosa.note_to_hz('C2'), fmax=librosa.note_to_hz('C7'))\n",
    "times = librosa.times_like(f0)\n",
    "D = librosa.amplitude_to_db(np.abs(librosa.stft(y)), ref=np.max)\n",
    "fig, ax = plt.subplots()\n",
    "img = librosa.display.specshow(D, x_axis='time', y_axis='log', ax=ax)\n",
    "ax.set(title='Fundamental frequency (F0) estimation')\n",
    "fig.colorbar(img, ax=ax, format=\"%+2.f dB\")\n",
    "ax.plot(times, f0, label='f0', color='cyan', linewidth=3)\n",
    "ax.legend(loc='upper right')"
   ]
  },
  {
   "cell_type": "code",
   "execution_count": null,
   "metadata": {},
   "outputs": [],
   "source": []
  }
 ],
 "metadata": {
  "kernelspec": {
   "display_name": "Python 3",
   "language": "python",
   "name": "python3"
  },
  "language_info": {
   "codemirror_mode": {
    "name": "ipython",
    "version": 3
   },
   "file_extension": ".py",
   "mimetype": "text/x-python",
   "name": "python",
   "nbconvert_exporter": "python",
   "pygments_lexer": "ipython3",
   "version": "3.8.5"
  }
 },
 "nbformat": 4,
 "nbformat_minor": 4
}
